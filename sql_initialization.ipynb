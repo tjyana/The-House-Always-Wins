{
 "cells": [
  {
   "cell_type": "code",
   "execution_count": 4,
   "metadata": {},
   "outputs": [
    {
     "ename": "ModuleNotFoundError",
     "evalue": "No module named 'pandas'",
     "output_type": "error",
     "traceback": [
      "\u001b[0;31m---------------------------------------------------------------------------\u001b[0m",
      "\u001b[0;31mModuleNotFoundError\u001b[0m                       Traceback (most recent call last)",
      "Cell \u001b[0;32mIn[4], line 3\u001b[0m\n\u001b[1;32m      1\u001b[0m \u001b[38;5;28;01mimport\u001b[39;00m\u001b[38;5;250m \u001b[39m\u001b[38;5;21;01msqlite3\u001b[39;00m\n\u001b[1;32m      2\u001b[0m \u001b[38;5;28;01mfrom\u001b[39;00m\u001b[38;5;250m \u001b[39m\u001b[38;5;21;01mcontextlib\u001b[39;00m\u001b[38;5;250m \u001b[39m\u001b[38;5;28;01mimport\u001b[39;00m closing\n\u001b[0;32m----> 3\u001b[0m \u001b[38;5;28;01mimport\u001b[39;00m\u001b[38;5;250m \u001b[39m\u001b[38;5;21;01mpandas\u001b[39;00m\u001b[38;5;250m \u001b[39m\u001b[38;5;28;01mas\u001b[39;00m\u001b[38;5;250m \u001b[39m\u001b[38;5;21;01mpd\u001b[39;00m\n",
      "\u001b[0;31mModuleNotFoundError\u001b[0m: No module named 'pandas'"
     ]
    }
   ],
   "source": [
    "import sqlite3\n",
    "from contextlib import closing\n",
    "import pandas as pd"
   ]
  },
  {
   "cell_type": "code",
   "execution_count": null,
   "metadata": {},
   "outputs": [],
   "source": [
    "def initialize_db(db_path):\n",
    "    with closing(sqlite3.connect(db_path)) as conn:\n",
    "        cursor = conn.cursor()\n",
    "\n",
    "        cursor.execute(\"\"\"\n",
    "        CREATE TABLE IF NOT EXISTS Candidates (\n",
    "            candidate_id INTEGER PRIMARY KEY,\n",
    "            first_name TEXT NOT NULL,\n",
    "            last_name TEXT NOT NULL,\n",
    "            email TEXT UNIQUE NOT NULL,\n",
    "            phone TEXT,\n",
    "            created_at TEXT DEFAULT (DATETIME('now')),\n",
    "            updated_at TEXT DEFAULT (DATETIME('now'))\n",
    "        )\n",
    "        \"\"\")\n",
    "\n",
    "        cursor.execute(\"\"\"\n",
    "        CREATE TABLE IF NOT EXISTS Notes (\n",
    "            note_id INTEGER PRIMARY KEY,\n",
    "            candidate_id INTEGER NOT NULL,\n",
    "            note_text TEXT NOT NULL,\n",
    "            next_action TEXT NOT NULL,\n",
    "            created_at TEXT DEFAULT (DATETIME('now')),\n",
    "            FOREIGN KEY (candidate_id) REFERENCES Candidates(candidate_id)\n",
    "        )\n",
    "        \"\"\")\n",
    "\n",
    "        cursor.execute(\"\"\"\n",
    "        CREATE TABLE IF NOT EXISTS WorkExperience (\n",
    "            experience_id INTEGER PRIMARY KEY,\n",
    "            candidate_id INTEGER NOT NULL,\n",
    "            company TEXT NOT NULL,\n",
    "            start_date TEXT,\n",
    "            end_date TEXT,\n",
    "            description TEXT,\n",
    "            created_at TEXT DEFAULT (DATETIME('now')),\n",
    "            FOREIGN KEY (candidate_id) REFERENCES Candidates(candidate_id)\n",
    "        )\n",
    "        \"\"\")\n",
    "\n",
    "\n",
    "        cursor.execute(\"\"\"\n",
    "        CREATE TABLE IF NOT EXISTS Tasks (\n",
    "            task_id INTEGER PRIMARY KEY,\n",
    "            candidate_id INTEGER NOT NULL,\n",
    "            done BOOLEAN NOT NULL,\n",
    "            email_draft TEXT,\n",
    "            created_at TEXT DEFAULT (DATETIME('now')),\n",
    "            FOREIGN KEY (candidate_id) REFERENCES Candidates(candidate_id)\n",
    "        )\n",
    "        \"\"\")\n",
    "\n",
    "        conn.commit()\n",
    "        print(f\"Database initialized: {db_path}\")"
   ]
  },
  {
   "cell_type": "code",
   "execution_count": 6,
   "metadata": {},
   "outputs": [
    {
     "name": "stdout",
     "output_type": "stream",
     "text": [
      "Database initialized: empty_copy.db\n"
     ]
    }
   ],
   "source": [
    "CANDIDATE_DB_PATH = \"empty_copy.db\"\n",
    "initialize_db(CANDIDATE_DB_PATH)"
   ]
  },
  {
   "cell_type": "code",
   "execution_count": null,
   "metadata": {},
   "outputs": [],
   "source": []
  }
 ],
 "metadata": {
  "kernelspec": {
   "display_name": "Python 3",
   "language": "python",
   "name": "python3"
  },
  "language_info": {
   "codemirror_mode": {
    "name": "ipython",
    "version": 3
   },
   "file_extension": ".py",
   "mimetype": "text/x-python",
   "name": "python",
   "nbconvert_exporter": "python",
   "pygments_lexer": "ipython3",
   "version": "3.12.0"
  }
 },
 "nbformat": 4,
 "nbformat_minor": 2
}
